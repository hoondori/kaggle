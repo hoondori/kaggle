{
 "cells": [
  {
   "cell_type": "code",
   "execution_count": 40,
   "metadata": {
    "collapsed": false
   },
   "outputs": [],
   "source": [
    "import pandas as pd\n",
    "import numpy as np\n",
    "from keras.models import Sequential\n",
    "from keras.layers import Dropout, Flatten, Convolution2D, MaxPooling2D, Dense, Activation\n",
    "import keras.utils.np_utils as kutils\n",
    "from keras.callbacks import ModelCheckpoint, Callback, EarlyStopping\n",
    "\n",
    "import matplotlib.pyplot as plt\n",
    "from matplotlib import ticker\n",
    "%matplotlib inline "
   ]
  },
  {
   "cell_type": "code",
   "execution_count": 5,
   "metadata": {
    "collapsed": false
   },
   "outputs": [
    {
     "name": "stdout",
     "output_type": "stream",
     "text": [
      "(42000, 785)\n"
     ]
    },
    {
     "data": {
      "text/html": [
       "<div>\n",
       "<table border=\"1\" class=\"dataframe\">\n",
       "  <thead>\n",
       "    <tr style=\"text-align: right;\">\n",
       "      <th></th>\n",
       "      <th>label</th>\n",
       "      <th>pixel0</th>\n",
       "      <th>pixel1</th>\n",
       "      <th>pixel2</th>\n",
       "      <th>pixel3</th>\n",
       "      <th>pixel4</th>\n",
       "      <th>pixel5</th>\n",
       "      <th>pixel6</th>\n",
       "      <th>pixel7</th>\n",
       "      <th>pixel8</th>\n",
       "      <th>...</th>\n",
       "      <th>pixel774</th>\n",
       "      <th>pixel775</th>\n",
       "      <th>pixel776</th>\n",
       "      <th>pixel777</th>\n",
       "      <th>pixel778</th>\n",
       "      <th>pixel779</th>\n",
       "      <th>pixel780</th>\n",
       "      <th>pixel781</th>\n",
       "      <th>pixel782</th>\n",
       "      <th>pixel783</th>\n",
       "    </tr>\n",
       "  </thead>\n",
       "  <tbody>\n",
       "    <tr>\n",
       "      <th>0</th>\n",
       "      <td>1</td>\n",
       "      <td>0</td>\n",
       "      <td>0</td>\n",
       "      <td>0</td>\n",
       "      <td>0</td>\n",
       "      <td>0</td>\n",
       "      <td>0</td>\n",
       "      <td>0</td>\n",
       "      <td>0</td>\n",
       "      <td>0</td>\n",
       "      <td>...</td>\n",
       "      <td>0</td>\n",
       "      <td>0</td>\n",
       "      <td>0</td>\n",
       "      <td>0</td>\n",
       "      <td>0</td>\n",
       "      <td>0</td>\n",
       "      <td>0</td>\n",
       "      <td>0</td>\n",
       "      <td>0</td>\n",
       "      <td>0</td>\n",
       "    </tr>\n",
       "  </tbody>\n",
       "</table>\n",
       "<p>1 rows × 785 columns</p>\n",
       "</div>"
      ],
      "text/plain": [
       "   label  pixel0  pixel1  pixel2  pixel3  pixel4  pixel5  pixel6  pixel7  \\\n",
       "0      1       0       0       0       0       0       0       0       0   \n",
       "\n",
       "   pixel8    ...     pixel774  pixel775  pixel776  pixel777  pixel778  \\\n",
       "0       0    ...            0         0         0         0         0   \n",
       "\n",
       "   pixel779  pixel780  pixel781  pixel782  pixel783  \n",
       "0         0         0         0         0         0  \n",
       "\n",
       "[1 rows x 785 columns]"
      ]
     },
     "execution_count": 5,
     "metadata": {},
     "output_type": "execute_result"
    }
   ],
   "source": [
    "# read train.csv and prepare train data/labels out of it\n",
    "train_csv = pd.read_csv(\"./train.csv\")\n",
    "print(train_csv.shape)\n",
    "train_csv.head(1)"
   ]
  },
  {
   "cell_type": "code",
   "execution_count": 32,
   "metadata": {
    "collapsed": false
   },
   "outputs": [
    {
     "name": "stdout",
     "output_type": "stream",
     "text": [
      "Train shape: (1000, 28, 28, 1)\n",
      "Label shape: (1000, 10)\n",
      "number of classes: 10\n"
     ]
    }
   ],
   "source": [
    "ROWS = 28\n",
    "COLS = 28\n",
    "\n",
    "# reshape flat data into (nCount,row,col,nChannel)\n",
    "#train = train_csv.values[:, 1:].reshape(train_csv.shape[0], ROWS, COLS, 1)\n",
    "train = train_csv.values[:1000, 1:].reshape(1000, ROWS, COLS, 1)\n",
    "train = train.astype(float)\n",
    "train /= 255.0\n",
    "\n",
    "# prepare train labels as one-hot encoding style\n",
    "#labels = kutils.to_categorical(train_csv.values[:, 0])\n",
    "labels = kutils.to_categorical(train_csv.values[:1000, 0])\n",
    "nClasses = labels.shape[1]\n",
    "\n",
    "print('Train shape: {}'.format(train.shape))\n",
    "print('Label shape: {}'.format(labels.shape))\n",
    "print('number of classes: {}'.format(nClasses))"
   ]
  },
  {
   "cell_type": "code",
   "execution_count": 33,
   "metadata": {
    "collapsed": false
   },
   "outputs": [
    {
     "name": "stdout",
     "output_type": "stream",
     "text": [
      "____________________________________________________________________________________________________\n",
      "Layer (type)                     Output Shape          Param #     Connected to                     \n",
      "====================================================================================================\n",
      "convolution2d_45 (Convolution2D) (None, 28, 28, 32)    320         convolution2d_input_10[0][0]     \n",
      "____________________________________________________________________________________________________\n",
      "convolution2d_46 (Convolution2D) (None, 28, 28, 32)    9248        convolution2d_45[0][0]           \n",
      "____________________________________________________________________________________________________\n",
      "maxpooling2d_23 (MaxPooling2D)   (None, 14, 14, 32)    0           convolution2d_46[0][0]           \n",
      "____________________________________________________________________________________________________\n",
      "convolution2d_47 (Convolution2D) (None, 14, 14, 64)    18496       maxpooling2d_23[0][0]            \n",
      "____________________________________________________________________________________________________\n",
      "convolution2d_48 (Convolution2D) (None, 14, 14, 64)    36928       convolution2d_47[0][0]           \n",
      "____________________________________________________________________________________________________\n",
      "maxpooling2d_24 (MaxPooling2D)   (None, 7, 7, 64)      0           convolution2d_48[0][0]           \n",
      "____________________________________________________________________________________________________\n",
      "flatten_15 (Flatten)             (None, 3136)          0           maxpooling2d_24[0][0]            \n",
      "____________________________________________________________________________________________________\n",
      "dense_19 (Dense)                 (None, 256)           803072      flatten_15[0][0]                 \n",
      "____________________________________________________________________________________________________\n",
      "dropout_5 (Dropout)              (None, 256)           0           dense_19[0][0]                   \n",
      "____________________________________________________________________________________________________\n",
      "dense_20 (Dense)                 (None, 256)           65792       dropout_5[0][0]                  \n",
      "____________________________________________________________________________________________________\n",
      "dropout_6 (Dropout)              (None, 256)           0           dense_20[0][0]                   \n",
      "____________________________________________________________________________________________________\n",
      "dense_21 (Dense)                 (None, 10)            2570        dropout_6[0][0]                  \n",
      "____________________________________________________________________________________________________\n",
      "activation_3 (Activation)        (None, 10)            0           dense_21[0][0]                   \n",
      "====================================================================================================\n",
      "Total params: 936,426\n",
      "Trainable params: 936,426\n",
      "Non-trainable params: 0\n",
      "____________________________________________________________________________________________________\n"
     ]
    }
   ],
   "source": [
    "# CNN model\n",
    "model = models.Sequential()\n",
    "model.add(Convolution2D(32, 3, 3, border_mode='same', activation=\"relu\", input_shape=(ROWS,COLS,1)))\n",
    "model.add(Convolution2D(32, 3, 3, border_mode='same', activation=\"relu\"))\n",
    "model.add(MaxPooling2D(strides=(2, 2)))\n",
    "# (None, 32, ROWS/2, COLS/2)\n",
    "\n",
    "model.add(Convolution2D(64, 3, 3, border_mode='same', activation='relu'))\n",
    "model.add(Convolution2D(64, 3, 3, border_mode='same', activation='relu'))\n",
    "model.add(MaxPooling2D(strides=(2,2)))\n",
    "# (None, 64, ROWS/4, COLS/4 )\n",
    "\n",
    "#model.add(Convolution2D(128, 3, 3, border_mode='same', activation='relu'))\n",
    "#model.add(Convolution2D(128, 3, 3, border_mode='same', activation='relu'))\n",
    "#model.add(MaxPooling2D(strides=(2,2)))\n",
    "# (None, 128, ROWS/8, COLS/8 )\n",
    "\n",
    "model.add(Flatten())  # (None, ROWS*COLS)\n",
    "model.add(Dense(256, activation='relu')) # (None, 256)\n",
    "model.add(Dropout(0.5))\n",
    "model.add(Dense(256, activation='relu')) # (None, 256)\n",
    "model.add(Dropout(0.5))\n",
    "model.add(Dense(nClasses)) # (None, 10)\n",
    "model.add(Activation('softmax'))\n",
    "\n",
    "model.summary()\n",
    "\n",
    "model.compile(loss='categorical_crossentropy', optimizer='adam', metrics=['accuracy'])\n"
   ]
  },
  {
   "cell_type": "code",
   "execution_count": 49,
   "metadata": {
    "collapsed": false
   },
   "outputs": [
    {
     "name": "stdout",
     "output_type": "stream",
     "text": [
      "Train on 750 samples, validate on 250 samples\n",
      "Epoch 1/10\n",
      "750/750 [==============================] - 7s - loss: 0.9196 - acc: 0.6747 - val_loss: 0.5686 - val_acc: 0.8000\n",
      "Epoch 2/10\n",
      "750/750 [==============================] - 6s - loss: 0.7426 - acc: 0.7427 - val_loss: 0.4313 - val_acc: 0.8480\n",
      "Epoch 3/10\n",
      "750/750 [==============================] - 6s - loss: 0.6142 - acc: 0.7907 - val_loss: 0.4189 - val_acc: 0.8600\n",
      "Epoch 4/10\n",
      "750/750 [==============================] - 6s - loss: 0.5359 - acc: 0.8187 - val_loss: 0.3351 - val_acc: 0.8960\n",
      "Epoch 5/10\n",
      "750/750 [==============================] - 6s - loss: 0.5146 - acc: 0.8360 - val_loss: 0.2862 - val_acc: 0.9120\n",
      "Epoch 6/10\n",
      "750/750 [==============================] - 6s - loss: 0.3923 - acc: 0.8747 - val_loss: 0.2989 - val_acc: 0.9120\n",
      "Epoch 7/10\n",
      "750/750 [==============================] - 6s - loss: 0.3396 - acc: 0.8920 - val_loss: 0.2586 - val_acc: 0.9280\n",
      "Epoch 8/10\n",
      "750/750 [==============================] - 7s - loss: 0.2798 - acc: 0.9280 - val_loss: 0.2737 - val_acc: 0.9200\n",
      "Epoch 9/10\n",
      "750/750 [==============================] - 7s - loss: 0.2721 - acc: 0.9093 - val_loss: 0.2626 - val_acc: 0.9240\n",
      "Epoch 10/10\n",
      "750/750 [==============================] - 6s - loss: 0.2654 - acc: 0.9147 - val_loss: 0.2418 - val_acc: 0.9360\n"
     ]
    },
    {
     "data": {
      "text/plain": [
       "<keras.callbacks.History at 0x7f83aa1f66d8>"
      ]
     },
     "execution_count": 49,
     "metadata": {},
     "output_type": "execute_result"
    }
   ],
   "source": [
    "nb_epoch = 10\n",
    "\n",
    "## Callback for loss logging per epoch\n",
    "class LossHistory(Callback):\n",
    "    def on_train_begin(self, logs={}):\n",
    "        self.losses = []\n",
    "        self.val_losses = []\n",
    "        \n",
    "    def on_epoch_end(self, batch, logs={}):\n",
    "        self.losses.append(logs.get('loss'))\n",
    "        self.val_losses.append(logs.get('val_loss'))\n",
    "\n",
    "early_stopping = EarlyStopping(monitor='val_loss', patience=3, verbose=1, mode='auto')\n",
    "history = LossHistory()\n",
    "\n",
    "model.fit(train, labels, batch_size=128, nb_epoch=nb_epoch,\n",
    "          validation_split=0.25, verbose=1, shuffle=True, callbacks=[history, early_stopping])"
   ]
  },
  {
   "cell_type": "code",
   "execution_count": 50,
   "metadata": {
    "collapsed": false
   },
   "outputs": [
    {
     "data": {
      "image/png": "[encoded data removed]",
      "text/plain": [
       "<matplotlib.figure.Figure at 0x7f83a78a0ac8>"
      ]
     },
     "metadata": {},
     "output_type": "display_data"
    }
   ],
   "source": [
    "loss = history.losses\n",
    "val_loss = history.val_losses\n",
    "\n",
    "plt.xlabel('Epochs')\n",
    "plt.ylabel('Loss')\n",
    "plt.title('VGG-16 Loss Trend')\n",
    "plt.plot(loss, 'blue', label='Training Loss')\n",
    "plt.plot(val_loss, 'green', label='Validation Loss')\n",
    "plt.xticks(range(0,nb_epoch)[0::2])\n",
    "plt.legend()\n",
    "plt.show()"
   ]
  },
  {
   "cell_type": "code",
   "execution_count": 52,
   "metadata": {
    "collapsed": false
   },
   "outputs": [
    {
     "name": "stdout",
     "output_type": "stream",
     "text": [
      "28000/28000 [==============================] - 86s    \n"
     ]
    }
   ],
   "source": [
    "# prepare test data\n",
    "test_csv = pd.read_csv(\"./test.csv\")\n",
    "test = test_csv.values.reshape(test_csv.shape[0], ROWS, COLS, 1)\n",
    "test = test.astype(float)\n",
    "test /= 255.0\n",
    "\n",
    "test_labels = model.predict_classes(test)\n",
    "np.savetxt(\"submission.csv\", np.c_[range(1,len(test_labels)+1),test_labels], delimiter=',',\n",
    "          header = 'ImageId,Label',comments='',fmt='%d')\n"
   ]
  },
  {
   "cell_type": "code",
   "execution_count": null,
   "metadata": {
    "collapsed": true
   },
   "outputs": [],
   "source": []
  }
 ],
 "metadata": {
  "kernelspec": {
   "display_name": "Python 3",
   "language": "python",
   "name": "python3"
  },
  "language_info": {
   "codemirror_mode": {
    "name": "ipython",
    "version": 3
   },
   "file_extension": ".py",
   "mimetype": "text/x-python",
   "name": "python",
   "nbconvert_exporter": "python",
   "pygments_lexer": "ipython3",
   "version": "3.5.2"
  }
 },
 "nbformat": 4,
 "nbformat_minor": 1
}
