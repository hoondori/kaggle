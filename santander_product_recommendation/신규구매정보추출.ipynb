{
 "cells": [
  {
   "cell_type": "markdown",
   "metadata": {},
   "source": [
    "# 신규 구매 정보 추출"
   ]
  },
  {
   "cell_type": "code",
   "execution_count": 1,
   "metadata": {},
   "outputs": [],
   "source": [
    "import pandas as pd\n",
    "import numpy as np\n",
    "import matplotlib\n",
    "import matplotlib.pyplot as plt\n",
    "%matplotlib inline\n",
    "import seaborn as sns\n",
    "\n",
    "data_path = '/Users/seonghoonjung/.kaggle/data/santander-product-recommendation'\n",
    "\n",
    "pd.set_option('display.max_columns', None)"
   ]
  },
  {
   "cell_type": "code",
   "execution_count": 6,
   "metadata": {},
   "outputs": [
    {
     "name": "stderr",
     "output_type": "stream",
     "text": [
      "/Users/seonghoonjung/anaconda3/envs/ai/lib/python3.6/site-packages/IPython/core/interactiveshell.py:2785: DtypeWarning: Columns (5,8,11,15) have mixed types. Specify dtype option on import or set low_memory=False.\n",
      "  interactivity=interactivity, compiler=compiler, result=result)\n"
     ]
    }
   ],
   "source": [
    "trn = pd.read_csv(f'{data_path}/train_ver2.csv')"
   ]
  },
  {
   "cell_type": "code",
   "execution_count": null,
   "metadata": {},
   "outputs": [],
   "source": [
    "# 제품 변수\n",
    "prods = trn.columns[24:].tolist()\n",
    "\n",
    "# 날짜를 편의상 숫자로 변환 \n",
    "def date_to_int(str_date):\n",
    "    Y, M, D = [ int(a)  for a in str_date.strip().split('-')]  # 2015-01-28 => 2015, 1, 28\n",
    "    int_date = (int(Y) - 2015)*12 + int(M)  # months from 2015\n",
    "    return int_date\n",
    "trn['int_date'] = trn['fecha_dato'].map(date_to_int).astype(np.int8)\n",
    "\n",
    "# lag-1 데이터 생성\n",
    "trn_lag = trn.copy()\n",
    "trn_lag['int_date'] += 1\n",
    "trn_lag.columns = [col+'_prev' if col not in ['ncodpers', 'int_date'] else col for col in trn.columns]\n",
    "\n",
    "# 원본 데이터와 lag 데이터를 합친다. (저번 달의 제품 정보가 삽입된다.)\n",
    "df_trn = trn.merge(trn_lag, on=['ncodpers', 'int_date'], how='left')\n",
    "\n",
    "del trn, trn_lag\n",
    "\n",
    "# 저번 달의 제품 정보가 존재하지 않을 경우 0 대처 \n",
    "for prod in prods:\n",
    "    prev = prod + '_prev'\n",
    "    df_trn[prev].fillna(0, inplace=True)\n",
    "    \n",
    "# 신규 구매 변수 계산 (저번달에는 없다가, 이번달에는 보유한 것)\n",
    "for prod in prods:\n",
    "    padd = prod + '_add'\n",
    "    prev = prod + '_prev'\n",
    "    df_trn[padd] = ((df_trn[prod] == 1) & (df_trn[prev] == 0)).astype(np.int8)\n",
    "\n",
    "# 신규 구매 변수만을 추출하여 label에 저장 \n",
    "add_cols = [prod + '_add' for prod in prods]\n",
    "labels = df_trn[add_cols].copy()\n",
    "labels.columns = prods\n",
    "labels.to_csv(f'{data_path}/labels.csv', index=False) "
   ]
  },
  {
   "cell_type": "code",
   "execution_count": null,
   "metadata": {},
   "outputs": [],
   "source": []
  }
 ],
 "metadata": {
  "kernelspec": {
   "display_name": "Python (kaggle)",
   "language": "python",
   "name": "kaggle"
  },
  "language_info": {
   "codemirror_mode": {
    "name": "ipython",
    "version": 3
   },
   "file_extension": ".py",
   "mimetype": "text/x-python",
   "name": "python",
   "nbconvert_exporter": "python",
   "pygments_lexer": "ipython3",
   "version": "3.6.6"
  },
  "varInspector": {
   "cols": {
    "lenName": 16,
    "lenType": 16,
    "lenVar": 40
   },
   "kernels_config": {
    "python": {
     "delete_cmd_postfix": "",
     "delete_cmd_prefix": "del ",
     "library": "var_list.py",
     "varRefreshCmd": "print(var_dic_list())"
    },
    "r": {
     "delete_cmd_postfix": ") ",
     "delete_cmd_prefix": "rm(",
     "library": "var_list.r",
     "varRefreshCmd": "cat(var_dic_list()) "
    }
   },
   "types_to_exclude": [
    "module",
    "function",
    "builtin_function_or_method",
    "instance",
    "_Feature"
   ],
   "window_display": false
  }
 },
 "nbformat": 4,
 "nbformat_minor": 2
}
